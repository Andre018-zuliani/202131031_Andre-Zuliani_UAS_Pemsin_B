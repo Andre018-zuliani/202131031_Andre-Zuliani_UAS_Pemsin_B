{
 "cells": [
  {
   "cell_type": "markdown",
   "id": "a8108f80",
   "metadata": {},
   "source": [
    "# Pengertian K-Means Clustering\n",
    "-K Means clustering adalah algoritma unsupervised machine learning yang digunakan untuk pengelompokan data dan pengenalan pola. \n",
    "\n",
    "-Caranya adalah dengan memilih beberapa titik data awal (k) secara acak, lalu memindah-mindahkannya hingga pengelompokan yang paling ideal ditemukan. \n",
    "\n",
    "-K Means clustering sering digunakan dalam berbagai bidang, seperti segmentasi gambar, segmentasi pelanggan, riset pasar, dan pengelompokan dokumen."
   ]
  },
  {
   "cell_type": "markdown",
   "id": "717a51a9",
   "metadata": {},
   "source": [
    "## Proses K Means Clustering\n",
    "\n",
    "-Pilih jumlah cluster (k) yang ingin dibuat, misalnya, k=3.\n",
    "\n",
    "-Pilih titik data k secara acak dan letakkan tiap titik ke cluster-nya sebagai centroid (pusat cluster) awal. Gambar di bawah ini menunjukkan tanda x sebagai centroid-nya.\n",
    "\n",
    "-Kelompokkan semua titik data sesuai dengan jarak centroid terdekat yang telah dibuat. Langkah ini membutuhkan penghitungan jarak menggunakan Euclidean distance. \n",
    "\n",
    "-Ulangi langkah 3 hingga centroid yang ideal ditemukan, yaitu saat titik-titik data pada cluster tidak lagi bervariasi. Penghitungan K Means clustering dapat dilakukan menggunakan tools seperti Java, Python, Matlab, dan R. "
   ]
  },
  {
   "cell_type": "markdown",
   "id": "06ed8d85",
   "metadata": {},
   "source": [
    "## Kelebihan K Means Clustering: \n",
    "\n",
    "-Sederhana: dapat digunakan oleh orang-orang dengan pengetahuan pemrograman yang terbatas.\n",
    "Mampu mengolah kumpulan data besar: dapat digunakan pada data dalam jumlah besar tanpa menghabiskan terlalu banyak waktu.\n",
    "\n",
    "-Konvergensi: algoritma ini pada akhirnya akan menghasilkan kumpulan cluster yang stabil.\n",
    "Adaptasi dengan data baru: saat titik data baru tersedia, algoritma baru dapat dijalankan kembali untuk memasukkannya ke dalam cluster.\n",
    "\n",
    "-Generalisasi: dapat melakukan generalisasi cluster dengan berbagai bentuk dan ukuran, seperti cluster elips, sehingga dapat digunakan untuk menemukan pola dalam berbagai kumpulan data.\n",
    "\n",
    "## Kekurangan K Means Clustering:\n",
    "\n",
    "-Memilih secara manual: jumlah cluster (k) harus dipilih secara manual, yang bisa jadi sulit dan subjektif. Memilih nilai k yang salah dapat mengakibatkan hasil pengelompokan yang buruk, dan memilih nilai k yang optimal membutuhkan pengetahuan yang cukup mengenai kumpulan data.\n",
    "\n",
    "-Bergantung pada nilai centroid awal: karena bergantung pada nilai centroid yang ada di awal, algoritma ini mungkin tidak selalu dapat menemukan clustering yang ideal, sehingga perlu menjalankan algoritmanya beberapa kali untuk menemukan solusi optimal.\n",
    "\n",
    "-Pengelompokan data dengan berbagai ukuran dan kepadatan: kelompok dalam data yang memiliki ukuran dan kepadatan berbeda dapat mengakibatkan beberapa cluster jadi tidak seimbang. Hal ini dapat mempersulit interpretasi cluster yang dihasilkan.\n",
    "\n",
    "-Pengelompokan outlier: outlier adalah titik data yang secara signifikan berbeda dari titik data lain dalam suatu kumpulan data. Outlier dapat mendistorsi hasil pengelompokan dengan menarik centroid menjauh dari pusat cluster yang sebenarnya. \n",
    "\n",
    "-Penghitungan data dengan banyak dimensi: dengan bertambahnya jumlah dimensi, pengelompokan data akan sulit karena perhitungan jarak antara titik data dan centroid menjadi lebih kompleks. Maka dari itu, diperlukan proses untuk mengurangi dimensi atau modifikasi algoritma."
   ]
  },
  {
   "cell_type": "markdown",
   "id": "b0851916",
   "metadata": {},
   "source": [
    "## Kenapa memilih K Means Clustering?\n",
    "\n",
    "\n",
    "### 1 Suatu proyek membutuhkan banyak kontributor\n",
    "Jika sedang mengerjakan proyek yang melibatkan banyak kontributor, K Means clustering merupakan pilihan yang ideal karena algoritma ini cukup populer sehingga banyak orang familiar dengannya. Dengan demikian, kolaborasi proyek dapat berjalan dengan baik. \n",
    "\n",
    "### 2 SDM memiliki pengetahuan terbatas\n",
    "K Means clustering juga dapat berguna jika suatu perusahaan memiliki pengetahuan terbatas mengenai machine learning yang kompleks. Algoritma ini cukup mudah dipahami dan banyak sumber untuk mempelajarinya. \n",
    "\n",
    "### 3 Kumpulan data yang besar\n",
    "K Means clustering berguna untuk mengelompokkan data yang besar. Pengelompokan kumpulan data besar secara manual bisa memakan waktu dan rentan terhadap kesalahan. Dengan K Means clustering, proses grouping data dapat berjalan secara otomatis sehingga perusahaan bisa fokus pada analisis dan interpretasi hasil saja."
   ]
  },
  {
   "cell_type": "markdown",
   "id": "05de61dd",
   "metadata": {},
   "source": [
    "# Import Library"
   ]
  },
  {
   "cell_type": "markdown",
   "id": "6b2b4005",
   "metadata": {},
   "source": [
    "Bagian ini digunakan untuk mengimpor library yang dibutuhkan, yaitu pandas, numpy, dan matplotlib."
   ]
  },
  {
   "cell_type": "code",
   "execution_count": 1,
   "id": "6cb0a6d8",
   "metadata": {},
   "outputs": [],
   "source": [
    "import pandas as pd #untuk manipulasi data dalam bentuk tabel.\n",
    "import numpy as np #untuk manipulasi data numerik.\n",
    "import matplotlib.pyplot as plt #untuk membuat grafik.\n",
    "#Andre Zuliani_202131031"
   ]
  },
  {
   "cell_type": "markdown",
   "id": "869a7c8d",
   "metadata": {},
   "source": [
    "# Pemilihan Dataset"
   ]
  },
  {
   "cell_type": "markdown",
   "id": "e2e0dc5a",
   "metadata": {},
   "source": [
    "# Membaca Dataset\n",
    "Bagian ini digunakan untuk membaca dataset pada file csv dengan memberikan nama variabel."
   ]
  },
  {
   "cell_type": "code",
   "execution_count": 2,
   "id": "187db8d9",
   "metadata": {},
   "outputs": [
    {
     "data": {
      "text/html": [
       "<div>\n",
       "<style scoped>\n",
       "    .dataframe tbody tr th:only-of-type {\n",
       "        vertical-align: middle;\n",
       "    }\n",
       "\n",
       "    .dataframe tbody tr th {\n",
       "        vertical-align: top;\n",
       "    }\n",
       "\n",
       "    .dataframe thead th {\n",
       "        text-align: right;\n",
       "    }\n",
       "</style>\n",
       "<table border=\"1\" class=\"dataframe\">\n",
       "  <thead>\n",
       "    <tr style=\"text-align: right;\">\n",
       "      <th></th>\n",
       "      <th>userid</th>\n",
       "      <th>Average Screen Time</th>\n",
       "      <th>Average Spent on App (INR)</th>\n",
       "      <th>Left Review</th>\n",
       "      <th>Ratings</th>\n",
       "      <th>New Password Request</th>\n",
       "      <th>Last Visited Minutes</th>\n",
       "    </tr>\n",
       "  </thead>\n",
       "  <tbody>\n",
       "    <tr>\n",
       "      <th>0</th>\n",
       "      <td>1001</td>\n",
       "      <td>1700</td>\n",
       "      <td>63400</td>\n",
       "      <td>1</td>\n",
       "      <td>9</td>\n",
       "      <td>7</td>\n",
       "      <td>2990</td>\n",
       "    </tr>\n",
       "    <tr>\n",
       "      <th>1</th>\n",
       "      <td>1002</td>\n",
       "      <td>0</td>\n",
       "      <td>5400</td>\n",
       "      <td>0</td>\n",
       "      <td>4</td>\n",
       "      <td>8</td>\n",
       "      <td>24008</td>\n",
       "    </tr>\n",
       "    <tr>\n",
       "      <th>2</th>\n",
       "      <td>1003</td>\n",
       "      <td>3700</td>\n",
       "      <td>20700</td>\n",
       "      <td>0</td>\n",
       "      <td>8</td>\n",
       "      <td>5</td>\n",
       "      <td>971</td>\n",
       "    </tr>\n",
       "    <tr>\n",
       "      <th>3</th>\n",
       "      <td>1004</td>\n",
       "      <td>3200</td>\n",
       "      <td>44500</td>\n",
       "      <td>1</td>\n",
       "      <td>6</td>\n",
       "      <td>2</td>\n",
       "      <td>799</td>\n",
       "    </tr>\n",
       "    <tr>\n",
       "      <th>4</th>\n",
       "      <td>1005</td>\n",
       "      <td>4500</td>\n",
       "      <td>42700</td>\n",
       "      <td>1</td>\n",
       "      <td>5</td>\n",
       "      <td>6</td>\n",
       "      <td>3668</td>\n",
       "    </tr>\n",
       "    <tr>\n",
       "      <th>...</th>\n",
       "      <td>...</td>\n",
       "      <td>...</td>\n",
       "      <td>...</td>\n",
       "      <td>...</td>\n",
       "      <td>...</td>\n",
       "      <td>...</td>\n",
       "      <td>...</td>\n",
       "    </tr>\n",
       "    <tr>\n",
       "      <th>494</th>\n",
       "      <td>1495</td>\n",
       "      <td>2800</td>\n",
       "      <td>7500</td>\n",
       "      <td>0</td>\n",
       "      <td>9</td>\n",
       "      <td>7</td>\n",
       "      <td>500</td>\n",
       "    </tr>\n",
       "    <tr>\n",
       "      <th>495</th>\n",
       "      <td>1496</td>\n",
       "      <td>4600</td>\n",
       "      <td>5300</td>\n",
       "      <td>1</td>\n",
       "      <td>7</td>\n",
       "      <td>1</td>\n",
       "      <td>2569</td>\n",
       "    </tr>\n",
       "    <tr>\n",
       "      <th>496</th>\n",
       "      <td>1497</td>\n",
       "      <td>3400</td>\n",
       "      <td>36600</td>\n",
       "      <td>1</td>\n",
       "      <td>5</td>\n",
       "      <td>1</td>\n",
       "      <td>2581</td>\n",
       "    </tr>\n",
       "    <tr>\n",
       "      <th>497</th>\n",
       "      <td>1498</td>\n",
       "      <td>900</td>\n",
       "      <td>1500</td>\n",
       "      <td>1</td>\n",
       "      <td>1</td>\n",
       "      <td>2</td>\n",
       "      <td>2196</td>\n",
       "    </tr>\n",
       "    <tr>\n",
       "      <th>498</th>\n",
       "      <td>1499</td>\n",
       "      <td>1300</td>\n",
       "      <td>47900</td>\n",
       "      <td>1</td>\n",
       "      <td>5</td>\n",
       "      <td>2</td>\n",
       "      <td>4646</td>\n",
       "    </tr>\n",
       "  </tbody>\n",
       "</table>\n",
       "<p>499 rows × 7 columns</p>\n",
       "</div>"
      ],
      "text/plain": [
       "     userid  Average Screen Time  Average Spent on App (INR)  Left Review  \\\n",
       "0      1001                 1700                       63400            1   \n",
       "1      1002                    0                        5400            0   \n",
       "2      1003                 3700                       20700            0   \n",
       "3      1004                 3200                       44500            1   \n",
       "4      1005                 4500                       42700            1   \n",
       "..      ...                  ...                         ...          ...   \n",
       "494    1495                 2800                        7500            0   \n",
       "495    1496                 4600                        5300            1   \n",
       "496    1497                 3400                       36600            1   \n",
       "497    1498                  900                        1500            1   \n",
       "498    1499                 1300                       47900            1   \n",
       "\n",
       "     Ratings  New Password Request  Last Visited Minutes  \n",
       "0          9                     7                  2990  \n",
       "1          4                     8                 24008  \n",
       "2          8                     5                   971  \n",
       "3          6                     2                   799  \n",
       "4          5                     6                  3668  \n",
       "..       ...                   ...                   ...  \n",
       "494        9                     7                   500  \n",
       "495        7                     1                  2569  \n",
       "496        5                     1                  2581  \n",
       "497        1                     2                  2196  \n",
       "498        5                     2                  4646  \n",
       "\n",
       "[499 rows x 7 columns]"
      ]
     },
     "execution_count": 2,
     "metadata": {},
     "output_type": "execute_result"
    }
   ],
   "source": [
    "data = pd.read_csv(\"userbehaviour.csv\", sep=';') #membaca file.csv dan memberikan nama variabelnya\n",
    "data #nama variabel yang ingin dimunculkan\n",
    "#Andre Zuliani_202131031"
   ]
  },
  {
   "cell_type": "code",
   "execution_count": 3,
   "id": "89d8fee0",
   "metadata": {},
   "outputs": [
    {
     "data": {
      "text/plain": [
       "Index(['userid', 'Average Screen Time', 'Average Spent on App (INR)',\n",
       "       'Left Review', 'Ratings', 'New Password Request',\n",
       "       'Last Visited Minutes'],\n",
       "      dtype='object')"
      ]
     },
     "execution_count": 3,
     "metadata": {},
     "output_type": "execute_result"
    }
   ],
   "source": [
    "data.columns #Untuk melihat beberapa kolom"
   ]
  },
  {
   "cell_type": "code",
   "execution_count": 4,
   "id": "dce1b03f",
   "metadata": {},
   "outputs": [
    {
     "data": {
      "text/plain": [
       "(499, 7)"
      ]
     },
     "execution_count": 4,
     "metadata": {},
     "output_type": "execute_result"
    }
   ],
   "source": [
    "data.shape #melihat baris 499 dengan kolom 7"
   ]
  },
  {
   "cell_type": "markdown",
   "id": "714d6c12",
   "metadata": {},
   "source": [
    "# Preprocessing Data"
   ]
  },
  {
   "cell_type": "markdown",
   "id": "c16ba712",
   "metadata": {},
   "source": [
    "## Membersihkan Data"
   ]
  },
  {
   "cell_type": "code",
   "execution_count": 5,
   "id": "eaa0a826",
   "metadata": {},
   "outputs": [],
   "source": [
    "data.replace(\"?\", np.nan, inplace= True) #membersihkan data yang masih ada tanda tanya"
   ]
  },
  {
   "cell_type": "markdown",
   "id": "efcfde20",
   "metadata": {},
   "source": [
    "data tidak ada tanda tanya, berarti tidak perlu dibersihkan"
   ]
  },
  {
   "cell_type": "code",
   "execution_count": 6,
   "id": "55065cf3",
   "metadata": {},
   "outputs": [],
   "source": [
    "categorical_col = [] #Inisialisasi kolom\n",
    "for column in data.columns:  #membuat iterasi kolom yang ada pada data\n",
    "    if data[column].dtype == object and len(data[column].unique()) <= 50: #mengecek level/isi data kolom (bisa object, int, dan tipe data lainnya)\n",
    "        categorical_col.append(column) #menambahkan kolom \n",
    "        print(f\"{column} : {data[column].unique()}\") #mencetak informasi kolom\n",
    "        print(\"====================================\")"
   ]
  },
  {
   "cell_type": "code",
   "execution_count": 7,
   "id": "1d97fb51",
   "metadata": {},
   "outputs": [
    {
     "name": "stdout",
     "output_type": "stream",
     "text": [
      "<class 'pandas.core.frame.DataFrame'>\n",
      "RangeIndex: 499 entries, 0 to 498\n",
      "Data columns (total 7 columns):\n",
      " #   Column                      Non-Null Count  Dtype\n",
      "---  ------                      --------------  -----\n",
      " 0   userid                      499 non-null    int64\n",
      " 1   Average Screen Time         499 non-null    int64\n",
      " 2   Average Spent on App (INR)  499 non-null    int64\n",
      " 3   Left Review                 499 non-null    int64\n",
      " 4   Ratings                     499 non-null    int64\n",
      " 5   New Password Request        499 non-null    int64\n",
      " 6   Last Visited Minutes        499 non-null    int64\n",
      "dtypes: int64(7)\n",
      "memory usage: 27.4 KB\n"
     ]
    }
   ],
   "source": [
    "data.info() #Membuka data info"
   ]
  },
  {
   "cell_type": "code",
   "execution_count": 8,
   "id": "6f5b7d0a",
   "metadata": {},
   "outputs": [
    {
     "data": {
      "text/plain": [
       "False"
      ]
     },
     "execution_count": 8,
     "metadata": {},
     "output_type": "execute_result"
    }
   ],
   "source": [
    "data.isnull().values.any() #Jika True artinya ada data yg hilang, jika false berarti datanya lengkap"
   ]
  },
  {
   "cell_type": "markdown",
   "id": "46c4d017",
   "metadata": {},
   "source": [
    "data tidak ada yang hilang, karena hasilnya false berarti datanya lengkap"
   ]
  },
  {
   "cell_type": "markdown",
   "id": "592b97ee",
   "metadata": {},
   "source": [
    "# Memilih data dari dataset untuk digunakan sebagai atribut X"
   ]
  },
  {
   "cell_type": "code",
   "execution_count": 9,
   "id": "df13e75d",
   "metadata": {},
   "outputs": [
    {
     "data": {
      "text/html": [
       "<div>\n",
       "<style scoped>\n",
       "    .dataframe tbody tr th:only-of-type {\n",
       "        vertical-align: middle;\n",
       "    }\n",
       "\n",
       "    .dataframe tbody tr th {\n",
       "        vertical-align: top;\n",
       "    }\n",
       "\n",
       "    .dataframe thead th {\n",
       "        text-align: right;\n",
       "    }\n",
       "</style>\n",
       "<table border=\"1\" class=\"dataframe\">\n",
       "  <thead>\n",
       "    <tr style=\"text-align: right;\">\n",
       "      <th></th>\n",
       "      <th>Average Screen Time</th>\n",
       "      <th>Average Spent on App (INR)</th>\n",
       "    </tr>\n",
       "  </thead>\n",
       "  <tbody>\n",
       "    <tr>\n",
       "      <th>0</th>\n",
       "      <td>1700</td>\n",
       "      <td>63400</td>\n",
       "    </tr>\n",
       "    <tr>\n",
       "      <th>1</th>\n",
       "      <td>0</td>\n",
       "      <td>5400</td>\n",
       "    </tr>\n",
       "    <tr>\n",
       "      <th>2</th>\n",
       "      <td>3700</td>\n",
       "      <td>20700</td>\n",
       "    </tr>\n",
       "    <tr>\n",
       "      <th>3</th>\n",
       "      <td>3200</td>\n",
       "      <td>44500</td>\n",
       "    </tr>\n",
       "    <tr>\n",
       "      <th>4</th>\n",
       "      <td>4500</td>\n",
       "      <td>42700</td>\n",
       "    </tr>\n",
       "    <tr>\n",
       "      <th>5</th>\n",
       "      <td>2800</td>\n",
       "      <td>59900</td>\n",
       "    </tr>\n",
       "    <tr>\n",
       "      <th>6</th>\n",
       "      <td>4900</td>\n",
       "      <td>88700</td>\n",
       "    </tr>\n",
       "    <tr>\n",
       "      <th>7</th>\n",
       "      <td>800</td>\n",
       "      <td>3100</td>\n",
       "    </tr>\n",
       "    <tr>\n",
       "      <th>8</th>\n",
       "      <td>2800</td>\n",
       "      <td>74100</td>\n",
       "    </tr>\n",
       "    <tr>\n",
       "      <th>9</th>\n",
       "      <td>2800</td>\n",
       "      <td>52400</td>\n",
       "    </tr>\n",
       "  </tbody>\n",
       "</table>\n",
       "</div>"
      ],
      "text/plain": [
       "   Average Screen Time  Average Spent on App (INR)\n",
       "0                 1700                       63400\n",
       "1                    0                        5400\n",
       "2                 3700                       20700\n",
       "3                 3200                       44500\n",
       "4                 4500                       42700\n",
       "5                 2800                       59900\n",
       "6                 4900                       88700\n",
       "7                  800                        3100\n",
       "8                 2800                       74100\n",
       "9                 2800                       52400"
      ]
     },
     "execution_count": 9,
     "metadata": {},
     "output_type": "execute_result"
    }
   ],
   "source": [
    "data = data[[\"Average Screen Time\", \"Average Spent on App (INR)\"]] #Membuat kolom W1 sebagai X1 dan kolom W2 sebagai x2 dengan memberi inisiasi nama variabel data\n",
    "data.head(10) #Menampilkan data dari urutan 10 teratas pada kolom W1 dan W2\n",
    "#Andre Zuliani_202131031"
   ]
  },
  {
   "cell_type": "markdown",
   "id": "f79ecb53",
   "metadata": {},
   "source": [
    "# Melihat Ringkasan Statistik"
   ]
  },
  {
   "cell_type": "code",
   "execution_count": 10,
   "id": "7a76f325",
   "metadata": {},
   "outputs": [
    {
     "data": {
      "text/html": [
       "<div>\n",
       "<style scoped>\n",
       "    .dataframe tbody tr th:only-of-type {\n",
       "        vertical-align: middle;\n",
       "    }\n",
       "\n",
       "    .dataframe tbody tr th {\n",
       "        vertical-align: top;\n",
       "    }\n",
       "\n",
       "    .dataframe thead th {\n",
       "        text-align: right;\n",
       "    }\n",
       "</style>\n",
       "<table border=\"1\" class=\"dataframe\">\n",
       "  <thead>\n",
       "    <tr style=\"text-align: right;\">\n",
       "      <th></th>\n",
       "      <th>Average Screen Time</th>\n",
       "      <th>Average Spent on App (INR)</th>\n",
       "    </tr>\n",
       "  </thead>\n",
       "  <tbody>\n",
       "    <tr>\n",
       "      <th>count</th>\n",
       "      <td>499.000000</td>\n",
       "      <td>499.000000</td>\n",
       "    </tr>\n",
       "    <tr>\n",
       "      <th>mean</th>\n",
       "      <td>2436.673347</td>\n",
       "      <td>42105.410822</td>\n",
       "    </tr>\n",
       "    <tr>\n",
       "      <th>std</th>\n",
       "      <td>1434.625511</td>\n",
       "      <td>31037.877992</td>\n",
       "    </tr>\n",
       "    <tr>\n",
       "      <th>min</th>\n",
       "      <td>0.000000</td>\n",
       "      <td>0.000000</td>\n",
       "    </tr>\n",
       "    <tr>\n",
       "      <th>25%</th>\n",
       "      <td>1300.000000</td>\n",
       "      <td>9650.000000</td>\n",
       "    </tr>\n",
       "    <tr>\n",
       "      <th>50%</th>\n",
       "      <td>2400.000000</td>\n",
       "      <td>39600.000000</td>\n",
       "    </tr>\n",
       "    <tr>\n",
       "      <th>75%</th>\n",
       "      <td>3600.000000</td>\n",
       "      <td>69050.000000</td>\n",
       "    </tr>\n",
       "    <tr>\n",
       "      <th>max</th>\n",
       "      <td>5000.000000</td>\n",
       "      <td>99800.000000</td>\n",
       "    </tr>\n",
       "  </tbody>\n",
       "</table>\n",
       "</div>"
      ],
      "text/plain": [
       "       Average Screen Time  Average Spent on App (INR)\n",
       "count           499.000000                  499.000000\n",
       "mean           2436.673347                42105.410822\n",
       "std            1434.625511                31037.877992\n",
       "min               0.000000                    0.000000\n",
       "25%            1300.000000                 9650.000000\n",
       "50%            2400.000000                39600.000000\n",
       "75%            3600.000000                69050.000000\n",
       "max            5000.000000                99800.000000"
      ]
     },
     "execution_count": 10,
     "metadata": {},
     "output_type": "execute_result"
    }
   ],
   "source": [
    "data.describe() #untuk melihat deskripsi data\n",
    "#Andre Zuliani_202131031"
   ]
  },
  {
   "cell_type": "code",
   "execution_count": 11,
   "id": "9a2ff38f",
   "metadata": {},
   "outputs": [
    {
     "data": {
      "image/png": "[encoded data removed]",
      "text/plain": [
       "<Figure size 640x480 with 1 Axes>"
      ]
     },
     "metadata": {},
     "output_type": "display_data"
    }
   ],
   "source": [
    "fig, ax = plt.subplots() #sebagai variabel untuk menyimpan objek figure dan axes\n",
    "ax.boxplot(data, #variabel data yang akan di plot (data w1 dan w2)\n",
    "          vert = False, #untuk menentukan plot berbentuk horizontal\n",
    "          showmeans = True, #menentukan nilai mean\n",
    "          meanline = True, #untuk garis mean yang akan ditampilkan \n",
    "          labels = (\"Average Screen Time\", \"Average Spent on App (INR)\"), #untuk memberikan label w1 dan w2\n",
    "          patch_artist = True, #untuk kotak yang diwarnai\n",
    "          medianprops = {\"linewidth\" : 2, \"color\" : \"red\"}, #untuk properti garis median\n",
    "          meanprops = {\"linewidth\" : 2, \"color\" : \"blue\"}) #untuk properti garis mean\n",
    "plt.show() #untuk menampilkan plot dari proses diatas\n",
    "#Andre Zuliani_202131031"
   ]
  },
  {
   "cell_type": "markdown",
   "id": "7d38edd7",
   "metadata": {},
   "source": [
    "# Buang Outlier"
   ]
  },
  {
   "cell_type": "code",
   "execution_count": 12,
   "id": "2e417dfe",
   "metadata": {},
   "outputs": [
    {
     "data": {
      "image/png": "[encoded data removed]",
      "text/plain": [
       "<Figure size 640x480 with 1 Axes>"
      ]
     },
     "metadata": {},
     "output_type": "display_data"
    }
   ],
   "source": [
    "#q1, q3, dan IQR\n",
    "kolom = [\"Average Screen Time\", \"Average Spent on App (INR)\"]\n",
    "\n",
    "Q1 = data[kolom].quantile(0.25)\n",
    "Q3 = data[kolom].quantile(0.75)\n",
    "\n",
    "#Menghapus data yang termasuk outlier, yaitu data yang berada di luar rentang Q1-1.5*IQR hingga Q3+1.5*IQR.\n",
    "IQR = Q3-Q1\n",
    "data = data[~((data[kolom]<(Q1 - 1.5 * IQR)) |\n",
    "             (data[kolom]>(Q3 + 1.5 * IQR))).any(axis = 1)]\n",
    "\n",
    "plt.boxplot(data[kolom])\n",
    "plt.xticks([1,2], kolom)\n",
    "plt.title(\"Outlier Setelah Dibuang\")\n",
    "plt.show() #Menampilkan boxplot dari data data[kolom] setelah outlier dibuang.\n",
    "#Andre Zuliani_202131031"
   ]
  },
  {
   "cell_type": "markdown",
   "id": "ae78599f",
   "metadata": {},
   "source": [
    "#### Penjelasan boxplot\n",
    "Boxplot adalah diagram yang digunakan untuk menampilkan distribusi data. Boxplot terdiri dari beberapa komponen, yaitu:\n",
    "\n",
    "Titik tengah: Nilai rata-rata data.\n",
    "Kotak: Rentang antara kuartil pertama dan ketiga.\n",
    "Titik tengah kotak: Nilai median data.\n",
    "Tali: Rentang antara kuartil pertama dan ketiga dibagi menjadi empat bagian yang sama.\n",
    "Titik: Data yang berada di luar rentang tali."
   ]
  },
  {
   "cell_type": "code",
   "execution_count": 13,
   "id": "71219fc2",
   "metadata": {},
   "outputs": [
    {
     "data": {
      "text/html": [
       "<div>\n",
       "<style scoped>\n",
       "    .dataframe tbody tr th:only-of-type {\n",
       "        vertical-align: middle;\n",
       "    }\n",
       "\n",
       "    .dataframe tbody tr th {\n",
       "        vertical-align: top;\n",
       "    }\n",
       "\n",
       "    .dataframe thead th {\n",
       "        text-align: right;\n",
       "    }\n",
       "</style>\n",
       "<table border=\"1\" class=\"dataframe\">\n",
       "  <thead>\n",
       "    <tr style=\"text-align: right;\">\n",
       "      <th></th>\n",
       "      <th>Average Screen Time</th>\n",
       "      <th>Average Spent on App (INR)</th>\n",
       "    </tr>\n",
       "  </thead>\n",
       "  <tbody>\n",
       "    <tr>\n",
       "      <th>count</th>\n",
       "      <td>499.000000</td>\n",
       "      <td>499.000000</td>\n",
       "    </tr>\n",
       "    <tr>\n",
       "      <th>mean</th>\n",
       "      <td>2436.673347</td>\n",
       "      <td>42105.410822</td>\n",
       "    </tr>\n",
       "    <tr>\n",
       "      <th>std</th>\n",
       "      <td>1434.625511</td>\n",
       "      <td>31037.877992</td>\n",
       "    </tr>\n",
       "    <tr>\n",
       "      <th>min</th>\n",
       "      <td>0.000000</td>\n",
       "      <td>0.000000</td>\n",
       "    </tr>\n",
       "    <tr>\n",
       "      <th>25%</th>\n",
       "      <td>1300.000000</td>\n",
       "      <td>9650.000000</td>\n",
       "    </tr>\n",
       "    <tr>\n",
       "      <th>50%</th>\n",
       "      <td>2400.000000</td>\n",
       "      <td>39600.000000</td>\n",
       "    </tr>\n",
       "    <tr>\n",
       "      <th>75%</th>\n",
       "      <td>3600.000000</td>\n",
       "      <td>69050.000000</td>\n",
       "    </tr>\n",
       "    <tr>\n",
       "      <th>max</th>\n",
       "      <td>5000.000000</td>\n",
       "      <td>99800.000000</td>\n",
       "    </tr>\n",
       "  </tbody>\n",
       "</table>\n",
       "</div>"
      ],
      "text/plain": [
       "       Average Screen Time  Average Spent on App (INR)\n",
       "count           499.000000                  499.000000\n",
       "mean           2436.673347                42105.410822\n",
       "std            1434.625511                31037.877992\n",
       "min               0.000000                    0.000000\n",
       "25%            1300.000000                 9650.000000\n",
       "50%            2400.000000                39600.000000\n",
       "75%            3600.000000                69050.000000\n",
       "max            5000.000000                99800.000000"
      ]
     },
     "execution_count": 13,
     "metadata": {},
     "output_type": "execute_result"
    }
   ],
   "source": [
    "data.describe() #Untuk menampilkan deskripsi data\n",
    "#Andre Zuliani_202131031"
   ]
  },
  {
   "cell_type": "markdown",
   "id": "619b0316",
   "metadata": {},
   "source": [
    "### Melihat Data Info"
   ]
  },
  {
   "cell_type": "code",
   "execution_count": 14,
   "id": "4b6a3b2e",
   "metadata": {},
   "outputs": [
    {
     "name": "stdout",
     "output_type": "stream",
     "text": [
      "<class 'pandas.core.frame.DataFrame'>\n",
      "RangeIndex: 499 entries, 0 to 498\n",
      "Data columns (total 2 columns):\n",
      " #   Column                      Non-Null Count  Dtype\n",
      "---  ------                      --------------  -----\n",
      " 0   Average Screen Time         499 non-null    int64\n",
      " 1   Average Spent on App (INR)  499 non-null    int64\n",
      "dtypes: int64(2)\n",
      "memory usage: 7.9 KB\n"
     ]
    }
   ],
   "source": [
    "data.info() #untuk menampilkan info data\n",
    "#Andre Zuliani_202131031"
   ]
  },
  {
   "cell_type": "markdown",
   "id": "e36781c2",
   "metadata": {},
   "source": [
    "## Mengubah data menjadi array"
   ]
  },
  {
   "cell_type": "code",
   "execution_count": 15,
   "id": "29c343d8",
   "metadata": {},
   "outputs": [],
   "source": [
    "x_array = np.array (data) #untuk mengubah data yang disimpan dalam variabel data menjadi array NumPy. \n",
    "#array NumPy adalah struktur data yang efisien untuk menyimpan data numerik.\n",
    "#Andre Zuliani_202131031"
   ]
  },
  {
   "cell_type": "markdown",
   "id": "d4ad3c22",
   "metadata": {},
   "source": [
    "# Visualisasi Persebaran Data\n",
    "untuk memvisualisasi persebaran data maka diperlukan plot scatter, plot scatter adalah diagram yang digunakan untuk menampilkan hubungan antara dua variabel numerik. Scatter plot terdiri dari titik-titik yang mewakili pasangan nilai dari dua variabel tersebut."
   ]
  },
  {
   "cell_type": "code",
   "execution_count": 16,
   "id": "402aecab",
   "metadata": {},
   "outputs": [
    {
     "data": {
      "image/png": "[encoded data removed]",
      "text/plain": [
       "<Figure size 640x480 with 1 Axes>"
      ]
     },
     "metadata": {},
     "output_type": "display_data"
    }
   ],
   "source": [
    "plt.scatter(data['Average Screen Time'], data['Average Spent on App (INR)'])\n",
    "plt.show() #untuk menampilkan hasil plot yang diolah sebe\n",
    "#Andre Zuliani_202131031"
   ]
  },
  {
   "cell_type": "markdown",
   "id": "3a2a3bab",
   "metadata": {},
   "source": [
    "Pada scatter plot pada gambar, titik-titik yang terletak di dekat garis diagonal menunjukkan bahwa nilai kedua variabel tersebut memiliki hubungan positif. Semakin dekat titik-titik tersebut ke garis diagonal, semakin kuat hubungan positifnya."
   ]
  },
  {
   "cell_type": "code",
   "execution_count": 17,
   "id": "c239a951",
   "metadata": {},
   "outputs": [
    {
     "data": {
      "image/png": "[encoded data removed]",
      "text/plain": [
       "<Figure size 640x480 with 1 Axes>"
      ]
     },
     "metadata": {},
     "output_type": "display_data"
    }
   ],
   "source": [
    "from sklearn.preprocessing import StandardScaler #untuk melakukan standardisasi data.\n",
    "scaler = StandardScaler() #untuk menentukan standar scalanya dengan memberi nama variabel scaler\n",
    "x_scaled = scaler.fit_transform(x_array) #membuat variabel x_scaled pada x_array\n",
    "plt.scatter(x_scaled[:,0], x_scaled[:,1], s=10) #membuat plot scatter dengan ketebalan 10\n",
    "plt.show() #untuk menampilkan plot yang diolah sebelumnya\n",
    "#Andre Zuliani_202131031"
   ]
  },
  {
   "cell_type": "markdown",
   "id": "fedb82a5",
   "metadata": {},
   "source": [
    "# Standarisasi\n",
    "### Tujuan dari standardisasi data adalah untuk:\n",
    "\n",
    "Menjadikan data berskala sama: Menormalkan skala dari fitur yang berbeda sehingga memiliki distribusi yang sama, biasanya dengan mean 0 dan standar deviasi 1. Hal ini penting dalam beberapa model machine learning, seperti model linear dan model jarak, yang sensitif terhadap perbedaan skala fitur.\n",
    "Meningkatkan performa model machine learning: Dalam beberapa kasus, standardisasi dapat meningkatkan performa model machine learning."
   ]
  },
  {
   "cell_type": "code",
   "execution_count": 18,
   "id": "b20735f2",
   "metadata": {},
   "outputs": [
    {
     "name": "stderr",
     "output_type": "stream",
     "text": [
      "D:\\Users\\User\\Anaconda3\\Lib\\site-packages\\sklearn\\cluster\\_kmeans.py:1436: UserWarning: KMeans is known to have a memory leak on Windows with MKL, when there are less chunks than available threads. You can avoid it by setting the environment variable OMP_NUM_THREADS=2.\n",
      "  warnings.warn(\n"
     ]
    },
    {
     "name": "stdout",
     "output_type": "stream",
     "text": [
      "1 998.0\n"
     ]
    },
    {
     "name": "stderr",
     "output_type": "stream",
     "text": [
      "D:\\Users\\User\\Anaconda3\\Lib\\site-packages\\sklearn\\cluster\\_kmeans.py:1436: UserWarning: KMeans is known to have a memory leak on Windows with MKL, when there are less chunks than available threads. You can avoid it by setting the environment variable OMP_NUM_THREADS=2.\n",
      "  warnings.warn(\n"
     ]
    },
    {
     "name": "stdout",
     "output_type": "stream",
     "text": [
      "2 480.0749213520157\n"
     ]
    },
    {
     "name": "stderr",
     "output_type": "stream",
     "text": [
      "D:\\Users\\User\\Anaconda3\\Lib\\site-packages\\sklearn\\cluster\\_kmeans.py:1436: UserWarning: KMeans is known to have a memory leak on Windows with MKL, when there are less chunks than available threads. You can avoid it by setting the environment variable OMP_NUM_THREADS=2.\n",
      "  warnings.warn(\n"
     ]
    },
    {
     "name": "stdout",
     "output_type": "stream",
     "text": [
      "3 293.4202053418868\n"
     ]
    },
    {
     "name": "stderr",
     "output_type": "stream",
     "text": [
      "D:\\Users\\User\\Anaconda3\\Lib\\site-packages\\sklearn\\cluster\\_kmeans.py:1436: UserWarning: KMeans is known to have a memory leak on Windows with MKL, when there are less chunks than available threads. You can avoid it by setting the environment variable OMP_NUM_THREADS=2.\n",
      "  warnings.warn(\n"
     ]
    },
    {
     "name": "stdout",
     "output_type": "stream",
     "text": [
      "4 195.07964175011125\n"
     ]
    },
    {
     "name": "stderr",
     "output_type": "stream",
     "text": [
      "D:\\Users\\User\\Anaconda3\\Lib\\site-packages\\sklearn\\cluster\\_kmeans.py:1436: UserWarning: KMeans is known to have a memory leak on Windows with MKL, when there are less chunks than available threads. You can avoid it by setting the environment variable OMP_NUM_THREADS=2.\n",
      "  warnings.warn(\n"
     ]
    },
    {
     "name": "stdout",
     "output_type": "stream",
     "text": [
      "5 143.7752947040899\n"
     ]
    },
    {
     "name": "stderr",
     "output_type": "stream",
     "text": [
      "D:\\Users\\User\\Anaconda3\\Lib\\site-packages\\sklearn\\cluster\\_kmeans.py:1436: UserWarning: KMeans is known to have a memory leak on Windows with MKL, when there are less chunks than available threads. You can avoid it by setting the environment variable OMP_NUM_THREADS=2.\n",
      "  warnings.warn(\n"
     ]
    },
    {
     "name": "stdout",
     "output_type": "stream",
     "text": [
      "6 120.71603733823632\n"
     ]
    },
    {
     "name": "stderr",
     "output_type": "stream",
     "text": [
      "D:\\Users\\User\\Anaconda3\\Lib\\site-packages\\sklearn\\cluster\\_kmeans.py:1436: UserWarning: KMeans is known to have a memory leak on Windows with MKL, when there are less chunks than available threads. You can avoid it by setting the environment variable OMP_NUM_THREADS=2.\n",
      "  warnings.warn(\n"
     ]
    },
    {
     "name": "stdout",
     "output_type": "stream",
     "text": [
      "7 102.41997774761009\n"
     ]
    },
    {
     "name": "stderr",
     "output_type": "stream",
     "text": [
      "D:\\Users\\User\\Anaconda3\\Lib\\site-packages\\sklearn\\cluster\\_kmeans.py:1436: UserWarning: KMeans is known to have a memory leak on Windows with MKL, when there are less chunks than available threads. You can avoid it by setting the environment variable OMP_NUM_THREADS=2.\n",
      "  warnings.warn(\n"
     ]
    },
    {
     "name": "stdout",
     "output_type": "stream",
     "text": [
      "8 85.31669111825902\n"
     ]
    },
    {
     "name": "stderr",
     "output_type": "stream",
     "text": [
      "D:\\Users\\User\\Anaconda3\\Lib\\site-packages\\sklearn\\cluster\\_kmeans.py:1436: UserWarning: KMeans is known to have a memory leak on Windows with MKL, when there are less chunks than available threads. You can avoid it by setting the environment variable OMP_NUM_THREADS=2.\n",
      "  warnings.warn(\n"
     ]
    },
    {
     "name": "stdout",
     "output_type": "stream",
     "text": [
      "9 72.57566302130985\n"
     ]
    }
   ],
   "source": [
    "from sklearn.cluster import KMeans #mengimpor kmeans dari sklearn.cluster\n",
    "sse = [] #membuat variabel baru\n",
    "index = range(1,10) #index yang digunakan sebanyak 9 kali\n",
    "for i in index :\n",
    "    kmeans = KMeans(n_clusters=i, random_state=0, n_init=10)  # Ganti 10 dengan angka yang sesuai\n",
    "    kmeans.fit(x_scaled)\n",
    "    sse_ = kmeans.inertia_\n",
    "    sse.append(sse_)\n",
    "    print (i,sse_) #mwmunculkan nilai iterasi dan nilai dari variabel sse_\n",
    "    #Andre Zuliani_202131031"
   ]
  },
  {
   "cell_type": "markdown",
   "id": "19d480bf",
   "metadata": {},
   "source": [
    "Hasil nilai iterasi sesuai yang dibuat dengan nilai iterasi ke 10"
   ]
  },
  {
   "cell_type": "markdown",
   "id": "c4ca91d2",
   "metadata": {},
   "source": [
    "# Cek Sum Of Square Error Dari Tiap Pembagian Jumlah Cluster\n",
    "digunakan untuk mengecek jumlah kotak yang error dari tiap pembagian jumlah cluster"
   ]
  },
  {
   "cell_type": "code",
   "execution_count": 19,
   "id": "e0745db5",
   "metadata": {},
   "outputs": [
    {
     "data": {
      "image/png": "[encoded data removed]",
      "text/plain": [
       "<Figure size 640x480 with 1 Axes>"
      ]
     },
     "metadata": {},
     "output_type": "display_data"
    }
   ],
   "source": [
    "plt.plot(index, sse) #plot hasil iterasi x yang dibuat iterasi 9 kali dan y untuk nilai variabel sse_\n",
    "plt.show()\n",
    "#Andre Zuliani_202131031"
   ]
  },
  {
   "cell_type": "markdown",
   "id": "b048539e",
   "metadata": {},
   "source": [
    "# Membuat Model"
   ]
  },
  {
   "cell_type": "code",
   "execution_count": 20,
   "id": "ecf09982",
   "metadata": {},
   "outputs": [
    {
     "name": "stderr",
     "output_type": "stream",
     "text": [
      "D:\\Users\\User\\Anaconda3\\Lib\\site-packages\\sklearn\\cluster\\_kmeans.py:1436: UserWarning: KMeans is known to have a memory leak on Windows with MKL, when there are less chunks than available threads. You can avoid it by setting the environment variable OMP_NUM_THREADS=2.\n",
      "  warnings.warn(\n"
     ]
    },
    {
     "data": {
      "text/html": [
       "<style>#sk-container-id-1 {color: black;}#sk-container-id-1 pre{padding: 0;}#sk-container-id-1 div.sk-toggleable {background-color: white;}#sk-container-id-1 label.sk-toggleable__label {cursor: pointer;display: block;width: 100%;margin-bottom: 0;padding: 0.3em;box-sizing: border-box;text-align: center;}#sk-container-id-1 label.sk-toggleable__label-arrow:before {content: \"▸\";float: left;margin-right: 0.25em;color: #696969;}#sk-container-id-1 label.sk-toggleable__label-arrow:hover:before {color: black;}#sk-container-id-1 div.sk-estimator:hover label.sk-toggleable__label-arrow:before {color: black;}#sk-container-id-1 div.sk-toggleable__content {max-height: 0;max-width: 0;overflow: hidden;text-align: left;background-color: #f0f8ff;}#sk-container-id-1 div.sk-toggleable__content pre {margin: 0.2em;color: black;border-radius: 0.25em;background-color: #f0f8ff;}#sk-container-id-1 input.sk-toggleable__control:checked~div.sk-toggleable__content {max-height: 200px;max-width: 100%;overflow: auto;}#sk-container-id-1 input.sk-toggleable__control:checked~label.sk-toggleable__label-arrow:before {content: \"▾\";}#sk-container-id-1 div.sk-estimator input.sk-toggleable__control:checked~label.sk-toggleable__label {background-color: #d4ebff;}#sk-container-id-1 div.sk-label input.sk-toggleable__control:checked~label.sk-toggleable__label {background-color: #d4ebff;}#sk-container-id-1 input.sk-hidden--visually {border: 0;clip: rect(1px 1px 1px 1px);clip: rect(1px, 1px, 1px, 1px);height: 1px;margin: -1px;overflow: hidden;padding: 0;position: absolute;width: 1px;}#sk-container-id-1 div.sk-estimator {font-family: monospace;background-color: #f0f8ff;border: 1px dotted black;border-radius: 0.25em;box-sizing: border-box;margin-bottom: 0.5em;}#sk-container-id-1 div.sk-estimator:hover {background-color: #d4ebff;}#sk-container-id-1 div.sk-parallel-item::after {content: \"\";width: 100%;border-bottom: 1px solid gray;flex-grow: 1;}#sk-container-id-1 div.sk-label:hover label.sk-toggleable__label {background-color: #d4ebff;}#sk-container-id-1 div.sk-serial::before {content: \"\";position: absolute;border-left: 1px solid gray;box-sizing: border-box;top: 0;bottom: 0;left: 50%;z-index: 0;}#sk-container-id-1 div.sk-serial {display: flex;flex-direction: column;align-items: center;background-color: white;padding-right: 0.2em;padding-left: 0.2em;position: relative;}#sk-container-id-1 div.sk-item {position: relative;z-index: 1;}#sk-container-id-1 div.sk-parallel {display: flex;align-items: stretch;justify-content: center;background-color: white;position: relative;}#sk-container-id-1 div.sk-item::before, #sk-container-id-1 div.sk-parallel-item::before {content: \"\";position: absolute;border-left: 1px solid gray;box-sizing: border-box;top: 0;bottom: 0;left: 50%;z-index: -1;}#sk-container-id-1 div.sk-parallel-item {display: flex;flex-direction: column;z-index: 1;position: relative;background-color: white;}#sk-container-id-1 div.sk-parallel-item:first-child::after {align-self: flex-end;width: 50%;}#sk-container-id-1 div.sk-parallel-item:last-child::after {align-self: flex-start;width: 50%;}#sk-container-id-1 div.sk-parallel-item:only-child::after {width: 0;}#sk-container-id-1 div.sk-dashed-wrapped {border: 1px dashed gray;margin: 0 0.4em 0.5em 0.4em;box-sizing: border-box;padding-bottom: 0.4em;background-color: white;}#sk-container-id-1 div.sk-label label {font-family: monospace;font-weight: bold;display: inline-block;line-height: 1.2em;}#sk-container-id-1 div.sk-label-container {text-align: center;}#sk-container-id-1 div.sk-container {/* jupyter's `normalize.less` sets `[hidden] { display: none; }` but bootstrap.min.css set `[hidden] { display: none !important; }` so we also need the `!important` here to be able to override the default hidden behavior on the sphinx rendered scikit-learn.org. See: https://github.com/scikit-learn/scikit-learn/issues/21755 */display: inline-block !important;position: relative;}#sk-container-id-1 div.sk-text-repr-fallback {display: none;}</style><div id=\"sk-container-id-1\" class=\"sk-top-container\"><div class=\"sk-text-repr-fallback\"><pre>KMeans(n_clusters=3, n_init=10, random_state=0)</pre><b>In a Jupyter environment, please rerun this cell to show the HTML representation or trust the notebook. <br />On GitHub, the HTML representation is unable to render, please try loading this page with nbviewer.org.</b></div><div class=\"sk-container\" hidden><div class=\"sk-item\"><div class=\"sk-estimator sk-toggleable\"><input class=\"sk-toggleable__control sk-hidden--visually\" id=\"sk-estimator-id-1\" type=\"checkbox\" checked><label for=\"sk-estimator-id-1\" class=\"sk-toggleable__label sk-toggleable__label-arrow\">KMeans</label><div class=\"sk-toggleable__content\"><pre>KMeans(n_clusters=3, n_init=10, random_state=0)</pre></div></div></div></div></div>"
      ],
      "text/plain": [
       "KMeans(n_clusters=3, n_init=10, random_state=0)"
      ]
     },
     "execution_count": 20,
     "metadata": {},
     "output_type": "execute_result"
    }
   ],
   "source": [
    "kmeans = KMeans (n_clusters = 3, random_state = 0, n_init=10) #untuk membuat variabel nama dengan nilai cluster 3 dan inisiasi acak dengan jumlah iterasi ke 10\n",
    "kmeans.fit(x_scaled) #untuk mendapatkan hasil dari kmeans\n",
    "#Andre Zuliani_202131031"
   ]
  },
  {
   "cell_type": "markdown",
   "id": "bdfc5f2f",
   "metadata": {},
   "source": [
    "# Melihat Cluster Pusat"
   ]
  },
  {
   "cell_type": "code",
   "execution_count": 21,
   "id": "ec30d280",
   "metadata": {},
   "outputs": [
    {
     "data": {
      "text/plain": [
       "array([[ 0.30522063,  1.06057331],\n",
       "       [-1.0780563 , -0.92031375],\n",
       "       [ 0.88819953, -0.40918923]])"
      ]
     },
     "execution_count": 21,
     "metadata": {},
     "output_type": "execute_result"
    }
   ],
   "source": [
    "kmeans.cluster_centers_ #untuk melihat hasil cluster pusat\n",
    "#Andre Zuliani_202131031"
   ]
  },
  {
   "cell_type": "markdown",
   "id": "bd48874e",
   "metadata": {},
   "source": [
    "Model Yang digunakan K-means dengan nilai kluster 3 dan inisialisasi dari nilai acak 10 dan memiliki nilai kluster pusatnya ([[ 0.30522063,  1.06057331], [-1.0780563 , -0.92031375], [ 0.88819953, -0.40918923]]) yang berarti dari hasil K-means ini pengguna aplikasi tidak berbeda jauh dari yang sudah di install atau mengunistall karena dilihat nilai kluster."
   ]
  },
  {
   "cell_type": "markdown",
   "id": "01efab2a",
   "metadata": {},
   "source": [
    "# Visualisasi Persebaran Data Setelah Clustering"
   ]
  },
  {
   "cell_type": "code",
   "execution_count": 22,
   "id": "9587bc6f",
   "metadata": {},
   "outputs": [
    {
     "data": {
      "image/png": "[encoded data removed]",
      "text/plain": [
       "<Figure size 640x480 with 2 Axes>"
      ]
     },
     "metadata": {},
     "output_type": "display_data"
    }
   ],
   "source": [
    "output = plt.scatter(x_scaled[:,0],x_scaled[:,1], s=10, c = kmeans.labels_) #Datanya\n",
    "\n",
    "centers = kmeans.cluster_centers_ #membuat variabel baru dengan nama centers\n",
    "plt.scatter(centers[:,0], centers[:,1], c=\"red\", s=10) #membuat plot scatter dengan warna merah dan ukuran titik-titik 10\n",
    "plt.title(\"KMeans Clustering sales\") #memberi judul plot Kmeans Clustering sales\n",
    "plt.xlabel(\"W1\") #menentukan plot label y dengan w1\n",
    "plt.xlabel(\"W2\") #menetukan plot label x dengan w2\n",
    "plt.colorbar(output) #untuk menampilkan hasil bar warna\n",
    "plt.show() #untuk menampilkan plot\n",
    "#Andre Zuliani_202131031"
   ]
  },
  {
   "cell_type": "markdown",
   "id": "6c38d251",
   "metadata": {},
   "source": [
    "# Evaluasi Model\n",
    "Memperbaiki model yang baru dengan evaluasi model davies_bouldin_score\n",
    "\n",
    "Davies-Bouldin Index:\n",
    "Davies-Bouldin Index mengukur sejauh mana sebuah klaster berada pada jarak yang optimal dari klaster lainnya. Semakin rendah nilai Davies-Bouldin Index, semakin baik pengelompokan klaster.\n"
   ]
  },
  {
   "cell_type": "code",
   "execution_count": 23,
   "id": "e09c10a0",
   "metadata": {},
   "outputs": [
    {
     "data": {
      "text/plain": [
       "0.8452462307751949"
      ]
     },
     "execution_count": 23,
     "metadata": {},
     "output_type": "execute_result"
    }
   ],
   "source": [
    "import sklearn #untuk mengimport library dari sklearn\n",
    "from sklearn.metrics import davies_bouldin_score #mengimpor davies_bouldin_score dari sklearn.metrics\n",
    "labels = kmeans.labels_ #membuat variabel baru dengan nama labels\n",
    "davies_bouldin_score(x_scaled, labels) #membuat score yang baru antara gabungan variabel x_scaled dan labels\n",
    "#Andre Zuliani_202131031"
   ]
  },
  {
   "cell_type": "markdown",
   "id": "c9860067",
   "metadata": {},
   "source": [
    "Hasil evaluasi menunjukkan bahwa model KMeans Clustering dengan 3 cluster menghasilkan pemisahan data yang baik.\n",
    "Data dalam cluster cukup mirip satu sama lain dan antar cluster terdapat pemisahan yang baik karena bernilai 84%."
   ]
  }
 ],
 "metadata": {
  "kernelspec": {
   "display_name": "Python 3 (ipykernel)",
   "language": "python",
   "name": "python3"
  },
  "language_info": {
   "codemirror_mode": {
    "name": "ipython",
    "version": 3
   },
   "file_extension": ".py",
   "mimetype": "text/x-python",
   "name": "python",
   "nbconvert_exporter": "python",
   "pygments_lexer": "ipython3",
   "version": "3.11.5"
  }
 },
 "nbformat": 4,
 "nbformat_minor": 5
}
